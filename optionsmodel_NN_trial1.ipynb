{
 "cells": [
  {
   "cell_type": "code",
   "execution_count": 1,
   "id": "df8f7476",
   "metadata": {},
   "outputs": [],
   "source": [
    "import pandas as pd\n",
    "import numpy as np\n",
    "\n",
    "options_df = pd.read_csv(\"options_cleaned.csv\")\n",
    "\n",
    "# options_df.sample(frac=1, random_state=43)\n",
    "full_options_df = pd.read_csv(\"options_withriskfreerates_andDeltaT.csv\")\n",
    "\n",
    "options_df[\"stockTicker\"] = full_options_df[\"stockTicker\"]"
   ]
  },
  {
   "cell_type": "markdown",
   "id": "1e52fae1",
   "metadata": {},
   "source": [
    "Need to prepare the train, validation/dev and test sets. In this first trial, I will use a 70%/20%/10% split\n",
    "\n",
    "I will also perform this split individually for each stock ticker, in order to have equal portions from each stock ticker"
   ]
  },
  {
   "cell_type": "code",
   "execution_count": 2,
   "id": "4af5a300",
   "metadata": {},
   "outputs": [
    {
     "name": "stderr",
     "output_type": "stream",
     "text": [
      "C:\\Users\\saiha\\AppData\\Local\\Packages\\PythonSoftwareFoundation.Python.3.11_qbz5n2kfra8p0\\LocalCache\\local-packages\\Python311\\site-packages\\numpy\\_core\\fromnumeric.py:57: FutureWarning: 'DataFrame.swapaxes' is deprecated and will be removed in a future version. Please use 'DataFrame.transpose' instead.\n",
      "  return bound(*args, **kwds)\n"
     ]
    }
   ],
   "source": [
    "tickers = [\"AAPL\",\"NVDA\",\"TSLA\",\"AMD\",\"AMZN\",\"MSFT\",\"META\",\"SPY\"]\n",
    "\n",
    "train_list = []\n",
    "dev_list = []\n",
    "test_list = []\n",
    "\n",
    "for ticker in tickers:\n",
    "\n",
    "    df = options_df[full_options_df[\"stockTicker\"] == ticker]\n",
    "\n",
    "    train, dev, test = np.split(df.sample(frac=1,random_state=42), \n",
    "                       [int(0.7*len(df)), int(.9*len(df))])\n",
    "    \n",
    "    train_list.append(train)\n",
    "    dev_list.append(dev)\n",
    "    test_list.append(test)\n",
    "\n",
    "train_df = pd.concat(train_list, ignore_index=True)\n",
    "dev_df = pd.concat(dev_list, ignore_index=True)\n",
    "test_df = pd.concat(test_list, ignore_index=True)\n",
    "\n",
    "target_col = \"lastPrice\"\n",
    "ticker_col = \"stockTicker\"\n",
    "\n",
    "Y_train = train_df[[target_col]]\n",
    "X_train = train_df.drop(columns=[target_col, ticker_col])  \n",
    "\n",
    "Y_dev = dev_df[[target_col]]\n",
    "X_dev = dev_df.drop(columns=[target_col, ticker_col]) \n",
    "\n",
    "test_df.to_csv(\"test_data_options.csv\",index=False)\n",
    "\n",
    "Y_test = test_df[[target_col]]\n",
    "X_test = test_df.drop(columns=[target_col, ticker_col]) \n"
   ]
  },
  {
   "cell_type": "code",
   "execution_count": 3,
   "id": "362ed5d8",
   "metadata": {},
   "outputs": [],
   "source": [
    "from sklearn.preprocessing import StandardScaler\n",
    "\n",
    "scaler = StandardScaler()\n",
    "X_train_scaled = scaler.fit_transform(X_train)\n",
    "X_dev_scaled = scaler.transform(X_dev)\n",
    "X_test_scaled = scaler.transform(X_test)"
   ]
  },
  {
   "cell_type": "code",
   "execution_count": 4,
   "id": "3034b0b5",
   "metadata": {},
   "outputs": [],
   "source": [
    "import tensorflow as tf\n",
    "from tensorflow.keras import Input\n",
    "from tensorflow.keras.models import Sequential\n",
    "from tensorflow.keras.layers import Dense\n",
    "\n",
    "# Define the model\n",
    "model = Sequential([\n",
    "    Input(shape=(X_train.shape[1],)),  # Explicit Input layer\n",
    "    Dense(64, activation='relu'),\n",
    "    Dense(64, activation='relu'),\n",
    "    Dense(64, activation='relu'),\n",
    "    Dense(1)  # Regression output\n",
    "])"
   ]
  },
  {
   "cell_type": "code",
   "execution_count": 5,
   "id": "0546640a",
   "metadata": {},
   "outputs": [],
   "source": [
    "from tensorflow.keras.optimizers import Adam\n",
    "\n",
    "optimizer = Adam(learning_rate=0.0005)  \n",
    "\n",
    "model.compile(\n",
    "    optimizer=optimizer,\n",
    "    loss='mse',\n",
    "    metrics=['mae']\n",
    ")"
   ]
  },
  {
   "cell_type": "code",
   "execution_count": 6,
   "id": "db4903d7",
   "metadata": {},
   "outputs": [
    {
     "name": "stdout",
     "output_type": "stream",
     "text": [
      "AttributeError: module 'ml_dtypes' has no attribute 'float4_e2m1fn'\n",
      "Epoch 1/50\n",
      "\u001b[1m636/636\u001b[0m \u001b[32m━━━━━━━━━━━━━━━━━━━━\u001b[0m\u001b[37m\u001b[0m \u001b[1m5s\u001b[0m 5ms/step - loss: 17174.7402 - mae: 70.6064 - val_loss: 8312.2080 - val_mae: 49.7640\n",
      "Epoch 2/50\n",
      "\u001b[1m636/636\u001b[0m \u001b[32m━━━━━━━━━━━━━━━━━━━━\u001b[0m\u001b[37m\u001b[0m \u001b[1m3s\u001b[0m 4ms/step - loss: 7021.2568 - mae: 46.1908 - val_loss: 3963.1978 - val_mae: 38.3412\n",
      "Epoch 3/50\n",
      "\u001b[1m636/636\u001b[0m \u001b[32m━━━━━━━━━━━━━━━━━━━━\u001b[0m\u001b[37m\u001b[0m \u001b[1m3s\u001b[0m 4ms/step - loss: 2966.7932 - mae: 32.3207 - val_loss: 1272.7242 - val_mae: 21.4469\n",
      "Epoch 4/50\n",
      "\u001b[1m636/636\u001b[0m \u001b[32m━━━━━━━━━━━━━━━━━━━━\u001b[0m\u001b[37m\u001b[0m \u001b[1m3s\u001b[0m 4ms/step - loss: 1134.0239 - mae: 19.6021 - val_loss: 722.2285 - val_mae: 15.5868\n",
      "Epoch 5/50\n",
      "\u001b[1m636/636\u001b[0m \u001b[32m━━━━━━━━━━━━━━━━━━━━\u001b[0m\u001b[37m\u001b[0m \u001b[1m3s\u001b[0m 4ms/step - loss: 695.1835 - mae: 15.1732 - val_loss: 580.5781 - val_mae: 12.9262\n",
      "Epoch 6/50\n",
      "\u001b[1m636/636\u001b[0m \u001b[32m━━━━━━━━━━━━━━━━━━━━\u001b[0m\u001b[37m\u001b[0m \u001b[1m3s\u001b[0m 4ms/step - loss: 569.4140 - mae: 12.7449 - val_loss: 467.9598 - val_mae: 11.6186\n",
      "Epoch 7/50\n",
      "\u001b[1m636/636\u001b[0m \u001b[32m━━━━━━━━━━━━━━━━━━━━\u001b[0m\u001b[37m\u001b[0m \u001b[1m3s\u001b[0m 4ms/step - loss: 485.2159 - mae: 11.2421 - val_loss: 393.7627 - val_mae: 10.0282\n",
      "Epoch 8/50\n",
      "\u001b[1m636/636\u001b[0m \u001b[32m━━━━━━━━━━━━━━━━━━━━\u001b[0m\u001b[37m\u001b[0m \u001b[1m3s\u001b[0m 4ms/step - loss: 426.5760 - mae: 10.1042 - val_loss: 354.1188 - val_mae: 9.3397\n",
      "Epoch 9/50\n",
      "\u001b[1m636/636\u001b[0m \u001b[32m━━━━━━━━━━━━━━━━━━━━\u001b[0m\u001b[37m\u001b[0m \u001b[1m3s\u001b[0m 4ms/step - loss: 365.3398 - mae: 9.5274 - val_loss: 324.9415 - val_mae: 8.9231\n",
      "Epoch 10/50\n",
      "\u001b[1m636/636\u001b[0m \u001b[32m━━━━━━━━━━━━━━━━━━━━\u001b[0m\u001b[37m\u001b[0m \u001b[1m3s\u001b[0m 4ms/step - loss: 343.4040 - mae: 9.1968 - val_loss: 302.4566 - val_mae: 8.2365\n",
      "Epoch 11/50\n",
      "\u001b[1m636/636\u001b[0m \u001b[32m━━━━━━━━━━━━━━━━━━━━\u001b[0m\u001b[37m\u001b[0m \u001b[1m3s\u001b[0m 4ms/step - loss: 345.1660 - mae: 8.9630 - val_loss: 301.2500 - val_mae: 8.5306\n",
      "Epoch 12/50\n",
      "\u001b[1m636/636\u001b[0m \u001b[32m━━━━━━━━━━━━━━━━━━━━\u001b[0m\u001b[37m\u001b[0m \u001b[1m3s\u001b[0m 4ms/step - loss: 344.7925 - mae: 8.7089 - val_loss: 293.1328 - val_mae: 8.1489\n",
      "Epoch 13/50\n",
      "\u001b[1m636/636\u001b[0m \u001b[32m━━━━━━━━━━━━━━━━━━━━\u001b[0m\u001b[37m\u001b[0m \u001b[1m3s\u001b[0m 4ms/step - loss: 313.3564 - mae: 8.3058 - val_loss: 277.6799 - val_mae: 7.6073\n",
      "Epoch 14/50\n",
      "\u001b[1m636/636\u001b[0m \u001b[32m━━━━━━━━━━━━━━━━━━━━\u001b[0m\u001b[37m\u001b[0m \u001b[1m3s\u001b[0m 4ms/step - loss: 309.2141 - mae: 8.1835 - val_loss: 301.0296 - val_mae: 8.0074\n",
      "Epoch 15/50\n",
      "\u001b[1m636/636\u001b[0m \u001b[32m━━━━━━━━━━━━━━━━━━━━\u001b[0m\u001b[37m\u001b[0m \u001b[1m3s\u001b[0m 4ms/step - loss: 287.3285 - mae: 7.8664 - val_loss: 260.9383 - val_mae: 7.3945\n",
      "Epoch 16/50\n",
      "\u001b[1m636/636\u001b[0m \u001b[32m━━━━━━━━━━━━━━━━━━━━\u001b[0m\u001b[37m\u001b[0m \u001b[1m3s\u001b[0m 4ms/step - loss: 296.9424 - mae: 7.8469 - val_loss: 282.2058 - val_mae: 8.0266\n",
      "Epoch 17/50\n",
      "\u001b[1m636/636\u001b[0m \u001b[32m━━━━━━━━━━━━━━━━━━━━\u001b[0m\u001b[37m\u001b[0m \u001b[1m3s\u001b[0m 4ms/step - loss: 258.1065 - mae: 7.6866 - val_loss: 255.1258 - val_mae: 7.4323\n",
      "Epoch 18/50\n",
      "\u001b[1m636/636\u001b[0m \u001b[32m━━━━━━━━━━━━━━━━━━━━\u001b[0m\u001b[37m\u001b[0m \u001b[1m3s\u001b[0m 4ms/step - loss: 329.1745 - mae: 8.0215 - val_loss: 256.6003 - val_mae: 7.3843\n",
      "Epoch 19/50\n",
      "\u001b[1m636/636\u001b[0m \u001b[32m━━━━━━━━━━━━━━━━━━━━\u001b[0m\u001b[37m\u001b[0m \u001b[1m3s\u001b[0m 4ms/step - loss: 287.1002 - mae: 7.5590 - val_loss: 296.9356 - val_mae: 9.2796\n",
      "Epoch 20/50\n",
      "\u001b[1m636/636\u001b[0m \u001b[32m━━━━━━━━━━━━━━━━━━━━\u001b[0m\u001b[37m\u001b[0m \u001b[1m3s\u001b[0m 4ms/step - loss: 264.7118 - mae: 7.7426 - val_loss: 244.3848 - val_mae: 7.1532\n",
      "Epoch 21/50\n",
      "\u001b[1m636/636\u001b[0m \u001b[32m━━━━━━━━━━━━━━━━━━━━\u001b[0m\u001b[37m\u001b[0m \u001b[1m3s\u001b[0m 4ms/step - loss: 233.8376 - mae: 7.1717 - val_loss: 236.0789 - val_mae: 6.9680\n",
      "Epoch 22/50\n",
      "\u001b[1m636/636\u001b[0m \u001b[32m━━━━━━━━━━━━━━━━━━━━\u001b[0m\u001b[37m\u001b[0m \u001b[1m3s\u001b[0m 4ms/step - loss: 265.7518 - mae: 7.2749 - val_loss: 331.0806 - val_mae: 8.9946\n",
      "Epoch 23/50\n",
      "\u001b[1m636/636\u001b[0m \u001b[32m━━━━━━━━━━━━━━━━━━━━\u001b[0m\u001b[37m\u001b[0m \u001b[1m3s\u001b[0m 4ms/step - loss: 290.3911 - mae: 7.4923 - val_loss: 247.7376 - val_mae: 7.3948\n",
      "Epoch 24/50\n",
      "\u001b[1m636/636\u001b[0m \u001b[32m━━━━━━━━━━━━━━━━━━━━\u001b[0m\u001b[37m\u001b[0m \u001b[1m3s\u001b[0m 4ms/step - loss: 233.9164 - mae: 6.8632 - val_loss: 276.2429 - val_mae: 7.5739\n",
      "Epoch 25/50\n",
      "\u001b[1m636/636\u001b[0m \u001b[32m━━━━━━━━━━━━━━━━━━━━\u001b[0m\u001b[37m\u001b[0m \u001b[1m3s\u001b[0m 4ms/step - loss: 236.2942 - mae: 6.8528 - val_loss: 442.9218 - val_mae: 9.3007\n",
      "Epoch 26/50\n",
      "\u001b[1m636/636\u001b[0m \u001b[32m━━━━━━━━━━━━━━━━━━━━\u001b[0m\u001b[37m\u001b[0m \u001b[1m3s\u001b[0m 4ms/step - loss: 259.5596 - mae: 7.2678 - val_loss: 229.3937 - val_mae: 7.0200\n",
      "Epoch 27/50\n",
      "\u001b[1m636/636\u001b[0m \u001b[32m━━━━━━━━━━━━━━━━━━━━\u001b[0m\u001b[37m\u001b[0m \u001b[1m3s\u001b[0m 4ms/step - loss: 276.2780 - mae: 6.9938 - val_loss: 217.7309 - val_mae: 6.7288\n",
      "Epoch 28/50\n",
      "\u001b[1m636/636\u001b[0m \u001b[32m━━━━━━━━━━━━━━━━━━━━\u001b[0m\u001b[37m\u001b[0m \u001b[1m3s\u001b[0m 4ms/step - loss: 229.9147 - mae: 6.9074 - val_loss: 274.7534 - val_mae: 7.9190\n",
      "Epoch 29/50\n",
      "\u001b[1m636/636\u001b[0m \u001b[32m━━━━━━━━━━━━━━━━━━━━\u001b[0m\u001b[37m\u001b[0m \u001b[1m3s\u001b[0m 4ms/step - loss: 275.8746 - mae: 7.0842 - val_loss: 244.9497 - val_mae: 6.7792\n",
      "Epoch 30/50\n",
      "\u001b[1m636/636\u001b[0m \u001b[32m━━━━━━━━━━━━━━━━━━━━\u001b[0m\u001b[37m\u001b[0m \u001b[1m3s\u001b[0m 4ms/step - loss: 258.8246 - mae: 6.8709 - val_loss: 233.3949 - val_mae: 6.5915\n",
      "Epoch 31/50\n",
      "\u001b[1m636/636\u001b[0m \u001b[32m━━━━━━━━━━━━━━━━━━━━\u001b[0m\u001b[37m\u001b[0m \u001b[1m3s\u001b[0m 4ms/step - loss: 240.8718 - mae: 6.6778 - val_loss: 296.6475 - val_mae: 8.2046\n",
      "Epoch 32/50\n",
      "\u001b[1m636/636\u001b[0m \u001b[32m━━━━━━━━━━━━━━━━━━━━\u001b[0m\u001b[37m\u001b[0m \u001b[1m3s\u001b[0m 4ms/step - loss: 218.9256 - mae: 6.6344 - val_loss: 202.5978 - val_mae: 6.0279\n",
      "Epoch 33/50\n",
      "\u001b[1m636/636\u001b[0m \u001b[32m━━━━━━━━━━━━━━━━━━━━\u001b[0m\u001b[37m\u001b[0m \u001b[1m3s\u001b[0m 4ms/step - loss: 239.3570 - mae: 6.7446 - val_loss: 327.4407 - val_mae: 7.4430\n",
      "Epoch 34/50\n",
      "\u001b[1m636/636\u001b[0m \u001b[32m━━━━━━━━━━━━━━━━━━━━\u001b[0m\u001b[37m\u001b[0m \u001b[1m3s\u001b[0m 4ms/step - loss: 259.3506 - mae: 6.7181 - val_loss: 240.8956 - val_mae: 6.9276\n",
      "Epoch 35/50\n",
      "\u001b[1m636/636\u001b[0m \u001b[32m━━━━━━━━━━━━━━━━━━━━\u001b[0m\u001b[37m\u001b[0m \u001b[1m3s\u001b[0m 4ms/step - loss: 263.2428 - mae: 6.8791 - val_loss: 225.2987 - val_mae: 6.7461\n",
      "Epoch 36/50\n",
      "\u001b[1m636/636\u001b[0m \u001b[32m━━━━━━━━━━━━━━━━━━━━\u001b[0m\u001b[37m\u001b[0m \u001b[1m3s\u001b[0m 4ms/step - loss: 228.9813 - mae: 6.3760 - val_loss: 201.9798 - val_mae: 6.1511\n",
      "Epoch 37/50\n",
      "\u001b[1m636/636\u001b[0m \u001b[32m━━━━━━━━━━━━━━━━━━━━\u001b[0m\u001b[37m\u001b[0m \u001b[1m3s\u001b[0m 4ms/step - loss: 238.3302 - mae: 6.6563 - val_loss: 209.9489 - val_mae: 6.1253\n",
      "Epoch 38/50\n",
      "\u001b[1m636/636\u001b[0m \u001b[32m━━━━━━━━━━━━━━━━━━━━\u001b[0m\u001b[37m\u001b[0m \u001b[1m3s\u001b[0m 4ms/step - loss: 221.3615 - mae: 6.3126 - val_loss: 209.4462 - val_mae: 6.4612\n",
      "Epoch 39/50\n",
      "\u001b[1m636/636\u001b[0m \u001b[32m━━━━━━━━━━━━━━━━━━━━\u001b[0m\u001b[37m\u001b[0m \u001b[1m3s\u001b[0m 4ms/step - loss: 206.5132 - mae: 6.0973 - val_loss: 231.5292 - val_mae: 6.6657\n",
      "Epoch 40/50\n",
      "\u001b[1m636/636\u001b[0m \u001b[32m━━━━━━━━━━━━━━━━━━━━\u001b[0m\u001b[37m\u001b[0m \u001b[1m3s\u001b[0m 4ms/step - loss: 238.1679 - mae: 6.4064 - val_loss: 194.5250 - val_mae: 6.2170\n",
      "Epoch 41/50\n",
      "\u001b[1m636/636\u001b[0m \u001b[32m━━━━━━━━━━━━━━━━━━━━\u001b[0m\u001b[37m\u001b[0m \u001b[1m3s\u001b[0m 4ms/step - loss: 213.0413 - mae: 6.1698 - val_loss: 221.0902 - val_mae: 6.2707\n",
      "Epoch 42/50\n",
      "\u001b[1m636/636\u001b[0m \u001b[32m━━━━━━━━━━━━━━━━━━━━\u001b[0m\u001b[37m\u001b[0m \u001b[1m3s\u001b[0m 4ms/step - loss: 229.3725 - mae: 6.0579 - val_loss: 192.9153 - val_mae: 5.7968\n",
      "Epoch 43/50\n",
      "\u001b[1m636/636\u001b[0m \u001b[32m━━━━━━━━━━━━━━━━━━━━\u001b[0m\u001b[37m\u001b[0m \u001b[1m3s\u001b[0m 4ms/step - loss: 209.1393 - mae: 5.9419 - val_loss: 201.1561 - val_mae: 5.7786\n",
      "Epoch 44/50\n",
      "\u001b[1m636/636\u001b[0m \u001b[32m━━━━━━━━━━━━━━━━━━━━\u001b[0m\u001b[37m\u001b[0m \u001b[1m3s\u001b[0m 4ms/step - loss: 204.2626 - mae: 5.9626 - val_loss: 197.4706 - val_mae: 5.9287\n",
      "Epoch 45/50\n",
      "\u001b[1m636/636\u001b[0m \u001b[32m━━━━━━━━━━━━━━━━━━━━\u001b[0m\u001b[37m\u001b[0m \u001b[1m3s\u001b[0m 4ms/step - loss: 203.7066 - mae: 5.7905 - val_loss: 190.7554 - val_mae: 5.6079\n",
      "Epoch 46/50\n",
      "\u001b[1m636/636\u001b[0m \u001b[32m━━━━━━━━━━━━━━━━━━━━\u001b[0m\u001b[37m\u001b[0m \u001b[1m3s\u001b[0m 4ms/step - loss: 217.2254 - mae: 6.1380 - val_loss: 187.7846 - val_mae: 5.7618\n",
      "Epoch 47/50\n",
      "\u001b[1m636/636\u001b[0m \u001b[32m━━━━━━━━━━━━━━━━━━━━\u001b[0m\u001b[37m\u001b[0m \u001b[1m3s\u001b[0m 4ms/step - loss: 252.1205 - mae: 6.0183 - val_loss: 199.4579 - val_mae: 5.7119\n",
      "Epoch 48/50\n",
      "\u001b[1m636/636\u001b[0m \u001b[32m━━━━━━━━━━━━━━━━━━━━\u001b[0m\u001b[37m\u001b[0m \u001b[1m3s\u001b[0m 4ms/step - loss: 263.9427 - mae: 6.0884 - val_loss: 230.8804 - val_mae: 6.8952\n",
      "Epoch 49/50\n",
      "\u001b[1m636/636\u001b[0m \u001b[32m━━━━━━━━━━━━━━━━━━━━\u001b[0m\u001b[37m\u001b[0m \u001b[1m5s\u001b[0m 5ms/step - loss: 208.3589 - mae: 5.9267 - val_loss: 260.6693 - val_mae: 6.9066\n",
      "Epoch 50/50\n",
      "\u001b[1m636/636\u001b[0m \u001b[32m━━━━━━━━━━━━━━━━━━━━\u001b[0m\u001b[37m\u001b[0m \u001b[1m3s\u001b[0m 4ms/step - loss: 197.0103 - mae: 5.9133 - val_loss: 176.7452 - val_mae: 5.2567\n"
     ]
    }
   ],
   "source": [
    "history = model.fit(\n",
    "    X_train_scaled, Y_train,\n",
    "    validation_data=(X_dev_scaled, Y_dev),\n",
    "    epochs=50,              # Start with a small number, like 50\n",
    "    batch_size=32,          # Common choice\n",
    "    verbose=1               # Shows progress per epoch\n",
    ")"
   ]
  },
  {
   "cell_type": "code",
   "execution_count": 7,
   "id": "e87c0519",
   "metadata": {},
   "outputs": [
    {
     "name": "stdout",
     "output_type": "stream",
     "text": [
      "\u001b[1m91/91\u001b[0m \u001b[32m━━━━━━━━━━━━━━━━━━━━\u001b[0m\u001b[37m\u001b[0m \u001b[1m0s\u001b[0m 4ms/step - loss: 385.7964 - mae: 6.6158\n",
      "Test MAE: 5.30\n"
     ]
    }
   ],
   "source": [
    "loss, mae = model.evaluate(X_test_scaled, Y_test)\n",
    "print(f\"Test MAE: {mae:.2f}\")"
   ]
  },
  {
   "cell_type": "code",
   "execution_count": 60,
   "id": "984b3623",
   "metadata": {},
   "outputs": [
    {
     "name": "stderr",
     "output_type": "stream",
     "text": [
      "C:\\Users\\saiha\\AppData\\Local\\Temp\\ipykernel_13796\\3135563355.py:5: FutureWarning: Setting an item of incompatible dtype is deprecated and will raise in a future error of pandas. Value '[-1.04627395 -1.04627395 -1.04627395 ... -1.04627395 -1.04627395\n",
      "  0.95577263]' has dtype incompatible with int64, please explicitly cast to a compatible dtype first.\n",
      "  test_df_scaled.iloc[:,i] = X_test_scaled[:,i]\n",
      "C:\\Users\\saiha\\AppData\\Local\\Temp\\ipykernel_13796\\3135563355.py:5: FutureWarning: Setting an item of incompatible dtype is deprecated and will raise in a future error of pandas. Value '[-0.92023038 -0.92023038  1.0866844  ...  1.0866844  -0.92023038\n",
      "  1.0866844 ]' has dtype incompatible with bool, please explicitly cast to a compatible dtype first.\n",
      "  test_df_scaled.iloc[:,i] = X_test_scaled[:,i]\n",
      "C:\\Users\\saiha\\AppData\\Local\\Temp\\ipykernel_13796\\3135563355.py:5: FutureWarning: Setting an item of incompatible dtype is deprecated and will raise in a future error of pandas. Value '[-0.47635178 -0.47635178 -0.47635178 ... -0.47635178 -0.47635178\n",
      " -0.47635178]' has dtype incompatible with int64, please explicitly cast to a compatible dtype first.\n",
      "  test_df_scaled.iloc[:,i] = X_test_scaled[:,i]\n"
     ]
    }
   ],
   "source": [
    "test_df_scaled = test_df\n",
    "\n",
    "for i in range(X_test_scaled.shape[1]):\n",
    "\n",
    "    test_df_scaled.iloc[:,i] = X_test_scaled[:,i]"
   ]
  },
  {
   "cell_type": "code",
   "execution_count": 62,
   "id": "bceeb781",
   "metadata": {},
   "outputs": [
    {
     "data": {
      "text/plain": [
       "array([[-7.74368847e-01, -8.83167727e-01, -1.41368372e-02, ...,\n",
       "        -3.45556176e-01, -9.20230382e-01, -4.76351782e-01],\n",
       "       [-7.89693514e-01, -8.83167727e-01, -7.29054850e-01, ...,\n",
       "        -2.82715354e-01, -9.20230382e-01, -4.76351782e-01],\n",
       "       [-5.75148178e-01, -8.83167727e-01,  6.99973362e-01, ...,\n",
       "        -4.37136622e-01,  1.08668440e+00, -4.76351782e-01],\n",
       "       ...,\n",
       "       [ 8.19396501e-01,  9.81202196e-01, -6.03457406e-01, ...,\n",
       "        -5.19255463e-01,  1.08668440e+00, -4.76351782e-01],\n",
       "       [-5.41095070e-02,  9.96589917e-01, -4.73313670e-01, ...,\n",
       "        -2.40847755e-01, -9.20230382e-01, -4.76351782e-01],\n",
       "       [ 2.37059162e-01,  9.68318334e-01, -8.50064885e-01, ...,\n",
       "        -3.65310798e-04,  1.08668440e+00, -4.76351782e-01]])"
      ]
     },
     "execution_count": 62,
     "metadata": {},
     "output_type": "execute_result"
    }
   ],
   "source": [
    "X_test_scaled"
   ]
  },
  {
   "cell_type": "code",
   "execution_count": 65,
   "id": "62cc0fa3",
   "metadata": {},
   "outputs": [],
   "source": [
    "test_df_scaled.to_csv(\"test_data_options_scaled.csv\",index=False)"
   ]
  },
  {
   "cell_type": "code",
   "execution_count": 63,
   "id": "e044c414",
   "metadata": {},
   "outputs": [
    {
     "name": "stdout",
     "output_type": "stream",
     "text": [
      "\u001b[1m91/91\u001b[0m \u001b[32m━━━━━━━━━━━━━━━━━━━━\u001b[0m\u001b[37m\u001b[0m \u001b[1m0s\u001b[0m 3ms/step - loss: 290.4188 - mae: 5.4270\n",
      "Test MAE: 4.13\n"
     ]
    }
   ],
   "source": [
    "Y_test_new = test_df_scaled[[target_col]]\n",
    "X_test_scaled_new = test_df_scaled.drop(columns=[target_col, ticker_col]) \n",
    "\n",
    "loss, mae = model.evaluate(X_test_scaled_new, Y_test_new)\n",
    "print(f\"Test MAE: {mae:.2f}\")"
   ]
  },
  {
   "cell_type": "code",
   "execution_count": 48,
   "id": "4e5d25da",
   "metadata": {},
   "outputs": [
    {
     "data": {
      "text/plain": [
       "dict_keys(['loss', 'mae', 'val_loss', 'val_mae'])"
      ]
     },
     "execution_count": 48,
     "metadata": {},
     "output_type": "execute_result"
    }
   ],
   "source": [
    "history.history.keys()"
   ]
  },
  {
   "cell_type": "code",
   "execution_count": 49,
   "id": "9b3a0944",
   "metadata": {},
   "outputs": [
    {
     "data": {
      "text/plain": [
       "np.float32(0.0005)"
      ]
     },
     "execution_count": 49,
     "metadata": {},
     "output_type": "execute_result"
    }
   ],
   "source": [
    "model.optimizer.learning_rate.numpy()"
   ]
  },
  {
   "cell_type": "code",
   "execution_count": 12,
   "id": "87544f60",
   "metadata": {},
   "outputs": [
    {
     "data": {
      "image/png": "[encoded data removed]",
      "text/plain": [
       "<Figure size 640x480 with 1 Axes>"
      ]
     },
     "metadata": {},
     "output_type": "display_data"
    }
   ],
   "source": [
    "import matplotlib.pyplot as plt\n",
    "\n",
    "plt.plot(history.history[\"loss\"])\n",
    "plt.yscale(\"log\")\n",
    "plt.ylabel(\"Loss\")\n",
    "plt.xlabel(\"Epochs\")\n",
    "plt.title(\"Evolution of the loss function with scaled features\")\n",
    "plt.grid()"
   ]
  },
  {
   "cell_type": "code",
   "execution_count": 52,
   "id": "b8bb7713",
   "metadata": {},
   "outputs": [],
   "source": [
    "model.save(\"model_scaledfeatures.keras\")"
   ]
  },
  {
   "cell_type": "code",
   "execution_count": null,
   "id": "83ec23e5",
   "metadata": {},
   "outputs": [],
   "source": []
  },
  {
   "cell_type": "code",
   "execution_count": 56,
   "id": "55ccccf9",
   "metadata": {},
   "outputs": [
    {
     "data": {
      "text/html": [
       "<div>\n",
       "<style scoped>\n",
       "    .dataframe tbody tr th:only-of-type {\n",
       "        vertical-align: middle;\n",
       "    }\n",
       "\n",
       "    .dataframe tbody tr th {\n",
       "        vertical-align: top;\n",
       "    }\n",
       "\n",
       "    .dataframe thead th {\n",
       "        text-align: right;\n",
       "    }\n",
       "</style>\n",
       "<table border=\"1\" class=\"dataframe\">\n",
       "  <thead>\n",
       "    <tr style=\"text-align: right;\">\n",
       "      <th></th>\n",
       "      <th>strike</th>\n",
       "      <th>stockClosePrice</th>\n",
       "      <th>deltaT_years</th>\n",
       "      <th>riskfree_rate</th>\n",
       "      <th>isCall</th>\n",
       "      <th>volume</th>\n",
       "      <th>openInterest</th>\n",
       "      <th>impliedVolatility</th>\n",
       "      <th>inTheMoney</th>\n",
       "      <th>isNVDA</th>\n",
       "      <th>lastPrice</th>\n",
       "      <th>stockTicker</th>\n",
       "    </tr>\n",
       "  </thead>\n",
       "  <tbody>\n",
       "    <tr>\n",
       "      <th>0</th>\n",
       "      <td>175.0</td>\n",
       "      <td>211.160004</td>\n",
       "      <td>0.690819</td>\n",
       "      <td>0.0437</td>\n",
       "      <td>0</td>\n",
       "      <td>1.0</td>\n",
       "      <td>8311.0</td>\n",
       "      <td>0.286323</td>\n",
       "      <td>False</td>\n",
       "      <td>0</td>\n",
       "      <td>5.58</td>\n",
       "      <td>AAPL</td>\n",
       "    </tr>\n",
       "    <tr>\n",
       "      <th>1</th>\n",
       "      <td>170.0</td>\n",
       "      <td>211.160004</td>\n",
       "      <td>0.191854</td>\n",
       "      <td>0.0437</td>\n",
       "      <td>0</td>\n",
       "      <td>636.0</td>\n",
       "      <td>10702.0</td>\n",
       "      <td>0.334968</td>\n",
       "      <td>False</td>\n",
       "      <td>0</td>\n",
       "      <td>0.87</td>\n",
       "      <td>AAPL</td>\n",
       "    </tr>\n",
       "    <tr>\n",
       "      <th>2</th>\n",
       "      <td>240.0</td>\n",
       "      <td>211.160004</td>\n",
       "      <td>1.189220</td>\n",
       "      <td>0.0437</td>\n",
       "      <td>0</td>\n",
       "      <td>1.0</td>\n",
       "      <td>12.0</td>\n",
       "      <td>0.215431</td>\n",
       "      <td>True</td>\n",
       "      <td>0</td>\n",
       "      <td>36.43</td>\n",
       "      <td>AAPL</td>\n",
       "    </tr>\n",
       "    <tr>\n",
       "      <th>3</th>\n",
       "      <td>110.0</td>\n",
       "      <td>212.440002</td>\n",
       "      <td>0.715615</td>\n",
       "      <td>0.0433</td>\n",
       "      <td>1</td>\n",
       "      <td>3.0</td>\n",
       "      <td>24.0</td>\n",
       "      <td>0.594242</td>\n",
       "      <td>True</td>\n",
       "      <td>0</td>\n",
       "      <td>105.15</td>\n",
       "      <td>AAPL</td>\n",
       "    </tr>\n",
       "    <tr>\n",
       "      <th>4</th>\n",
       "      <td>440.0</td>\n",
       "      <td>222.243881</td>\n",
       "      <td>1.975468</td>\n",
       "      <td>0.0445</td>\n",
       "      <td>0</td>\n",
       "      <td>8.0</td>\n",
       "      <td>0.0</td>\n",
       "      <td>0.000010</td>\n",
       "      <td>True</td>\n",
       "      <td>0</td>\n",
       "      <td>217.25</td>\n",
       "      <td>AAPL</td>\n",
       "    </tr>\n",
       "    <tr>\n",
       "      <th>...</th>\n",
       "      <td>...</td>\n",
       "      <td>...</td>\n",
       "      <td>...</td>\n",
       "      <td>...</td>\n",
       "      <td>...</td>\n",
       "      <td>...</td>\n",
       "      <td>...</td>\n",
       "      <td>...</td>\n",
       "      <td>...</td>\n",
       "      <td>...</td>\n",
       "      <td>...</td>\n",
       "      <td>...</td>\n",
       "    </tr>\n",
       "    <tr>\n",
       "      <th>2907</th>\n",
       "      <td>585.0</td>\n",
       "      <td>623.619995</td>\n",
       "      <td>0.016439</td>\n",
       "      <td>0.0437</td>\n",
       "      <td>0</td>\n",
       "      <td>61.0</td>\n",
       "      <td>78.0</td>\n",
       "      <td>0.210945</td>\n",
       "      <td>False</td>\n",
       "      <td>0</td>\n",
       "      <td>0.09</td>\n",
       "      <td>SPY</td>\n",
       "    </tr>\n",
       "    <tr>\n",
       "      <th>2908</th>\n",
       "      <td>500.0</td>\n",
       "      <td>623.619995</td>\n",
       "      <td>0.268510</td>\n",
       "      <td>0.0437</td>\n",
       "      <td>0</td>\n",
       "      <td>3951.0</td>\n",
       "      <td>11085.0</td>\n",
       "      <td>0.275581</td>\n",
       "      <td>False</td>\n",
       "      <td>0</td>\n",
       "      <td>2.11</td>\n",
       "      <td>SPY</td>\n",
       "    </tr>\n",
       "    <tr>\n",
       "      <th>2909</th>\n",
       "      <td>695.0</td>\n",
       "      <td>620.679993</td>\n",
       "      <td>0.279512</td>\n",
       "      <td>0.0437</td>\n",
       "      <td>0</td>\n",
       "      <td>1.0</td>\n",
       "      <td>0.0</td>\n",
       "      <td>0.151864</td>\n",
       "      <td>True</td>\n",
       "      <td>0</td>\n",
       "      <td>75.39</td>\n",
       "      <td>SPY</td>\n",
       "    </tr>\n",
       "    <tr>\n",
       "      <th>2910</th>\n",
       "      <td>410.0</td>\n",
       "      <td>624.059998</td>\n",
       "      <td>0.370344</td>\n",
       "      <td>0.0436</td>\n",
       "      <td>0</td>\n",
       "      <td>17.0</td>\n",
       "      <td>286.0</td>\n",
       "      <td>0.367377</td>\n",
       "      <td>False</td>\n",
       "      <td>0</td>\n",
       "      <td>1.23</td>\n",
       "      <td>SPY</td>\n",
       "    </tr>\n",
       "    <tr>\n",
       "      <th>2911</th>\n",
       "      <td>505.0</td>\n",
       "      <td>617.849976</td>\n",
       "      <td>0.107397</td>\n",
       "      <td>0.0428</td>\n",
       "      <td>1</td>\n",
       "      <td>0.0</td>\n",
       "      <td>1.0</td>\n",
       "      <td>0.553532</td>\n",
       "      <td>True</td>\n",
       "      <td>0</td>\n",
       "      <td>114.48</td>\n",
       "      <td>SPY</td>\n",
       "    </tr>\n",
       "  </tbody>\n",
       "</table>\n",
       "<p>2912 rows × 12 columns</p>\n",
       "</div>"
      ],
      "text/plain": [
       "      strike  stockClosePrice  deltaT_years  riskfree_rate  isCall  volume  \\\n",
       "0      175.0       211.160004      0.690819         0.0437       0     1.0   \n",
       "1      170.0       211.160004      0.191854         0.0437       0   636.0   \n",
       "2      240.0       211.160004      1.189220         0.0437       0     1.0   \n",
       "3      110.0       212.440002      0.715615         0.0433       1     3.0   \n",
       "4      440.0       222.243881      1.975468         0.0445       0     8.0   \n",
       "...      ...              ...           ...            ...     ...     ...   \n",
       "2907   585.0       623.619995      0.016439         0.0437       0    61.0   \n",
       "2908   500.0       623.619995      0.268510         0.0437       0  3951.0   \n",
       "2909   695.0       620.679993      0.279512         0.0437       0     1.0   \n",
       "2910   410.0       624.059998      0.370344         0.0436       0    17.0   \n",
       "2911   505.0       617.849976      0.107397         0.0428       1     0.0   \n",
       "\n",
       "      openInterest  impliedVolatility  inTheMoney  isNVDA  lastPrice  \\\n",
       "0           8311.0           0.286323       False       0       5.58   \n",
       "1          10702.0           0.334968       False       0       0.87   \n",
       "2             12.0           0.215431        True       0      36.43   \n",
       "3             24.0           0.594242        True       0     105.15   \n",
       "4              0.0           0.000010        True       0     217.25   \n",
       "...            ...                ...         ...     ...        ...   \n",
       "2907          78.0           0.210945       False       0       0.09   \n",
       "2908       11085.0           0.275581       False       0       2.11   \n",
       "2909           0.0           0.151864        True       0      75.39   \n",
       "2910         286.0           0.367377       False       0       1.23   \n",
       "2911           1.0           0.553532        True       0     114.48   \n",
       "\n",
       "     stockTicker  \n",
       "0           AAPL  \n",
       "1           AAPL  \n",
       "2           AAPL  \n",
       "3           AAPL  \n",
       "4           AAPL  \n",
       "...          ...  \n",
       "2907         SPY  \n",
       "2908         SPY  \n",
       "2909         SPY  \n",
       "2910         SPY  \n",
       "2911         SPY  \n",
       "\n",
       "[2912 rows x 12 columns]"
      ]
     },
     "execution_count": 56,
     "metadata": {},
     "output_type": "execute_result"
    }
   ],
   "source": [
    "X_test"
   ]
  },
  {
   "cell_type": "code",
   "execution_count": 19,
   "id": "a1474431",
   "metadata": {},
   "outputs": [
    {
     "data": {
      "text/plain": [
       "(13.507769584655762, 13.244246482849121)"
      ]
     },
     "execution_count": 19,
     "metadata": {},
     "output_type": "execute_result"
    }
   ],
   "source": [
    "history.history[\"mae\"][-1],history.history[\"val_mae\"][-1]"
   ]
  },
  {
   "cell_type": "code",
   "execution_count": 4,
   "id": "41790b87",
   "metadata": {},
   "outputs": [],
   "source": [
    "from models import BlackScholesModel"
   ]
  },
  {
   "cell_type": "code",
   "execution_count": 5,
   "id": "e50e343e",
   "metadata": {},
   "outputs": [],
   "source": [
    "stock_price = options_df[\"stockClosePrice\"]\n",
    "strike_price = options_df[\"strike\"]\n",
    "riskfree_rate = options_df[\"riskfree_rate\"]\n",
    "time_to_expiry = options_df[\"deltaT_years\"]\n",
    "volatility = options_df[\"impliedVolatility\"]\n",
    "isCall = options_df[\"isCall\"]\n",
    "\n",
    "price_BS = np.zeros_like(stock_price)\n",
    "\n",
    "for i in range(len(options_df)):\n",
    "    price_BS[i] = BlackScholesModel(stock_price[i],strike_price[i],riskfree_rate[i],time_to_expiry[i],volatility[i],isCall[i])"
   ]
  },
  {
   "cell_type": "code",
   "execution_count": 7,
   "id": "208b3be0",
   "metadata": {},
   "outputs": [
    {
     "data": {
      "text/plain": [
       "np.float64(29.591169294508173)"
      ]
     },
     "execution_count": 7,
     "metadata": {},
     "output_type": "execute_result"
    }
   ],
   "source": [
    "mae_BS = np.mean(np.abs(price_BS - options_df[\"lastPrice\"]))\n",
    "\n",
    "mae_BS"
   ]
  },
  {
   "cell_type": "code",
   "execution_count": 10,
   "id": "bea4facd",
   "metadata": {},
   "outputs": [
    {
     "data": {
      "text/plain": [
       "(np.float64(80.99049724896837), np.float64(135.43975112824418))"
      ]
     },
     "execution_count": 10,
     "metadata": {},
     "output_type": "execute_result"
    }
   ],
   "source": [
    "options_df[\"lastPrice\"].mean(), options_df[\"lastPrice\"].std()"
   ]
  },
  {
   "cell_type": "code",
   "execution_count": 38,
   "id": "14f67d37",
   "metadata": {},
   "outputs": [],
   "source": [
    "import keras_tuner as kt\n",
    "from tensorflow import keras\n",
    "from tensorflow.keras import layers\n",
    "\n",
    "def build_model(hp):\n",
    "    model = keras.Sequential()\n",
    "\n",
    "    for i in range(hp.Int(\"num_layers\", 1, 3)):\n",
    "        model.add(\n",
    "            layers.Dense(\n",
    "                units=hp.Int(f\"units_{i}\", 32, 256, step=32),\n",
    "                activation=hp.Choice(\"activation\", [\"relu\", \"tanh\"])\n",
    "            )\n",
    "        )\n",
    "\n",
    "    model.add(layers.Dense(1, activation='linear'))\n",
    "\n",
    "    # Explicit mapping to avoid any naming issues\n",
    "    optimizer_name = hp.Choice(\"optimizer\", [\"adam\", \"rmsprop\", \"sgd\"])\n",
    "    learning_rate = hp.Float(\"learning_rate\", 1e-4, 1e-2, sampling=\"log\")\n",
    "\n",
    "    optimizer_classes = {\n",
    "        \"adam\": keras.optimizers.Adam,\n",
    "        \"rmsprop\": keras.optimizers.RMSprop,\n",
    "        \"sgd\": keras.optimizers.SGD\n",
    "    }\n",
    "\n",
    "    model.compile(\n",
    "        optimizer=optimizer_classes[optimizer_name](learning_rate=learning_rate),\n",
    "        loss=\"mae\",\n",
    "        metrics=[\"mae\"]\n",
    "    )\n",
    "\n",
    "    return model\n",
    "\n"
   ]
  },
  {
   "cell_type": "code",
   "execution_count": 39,
   "id": "fda0064d",
   "metadata": {},
   "outputs": [
    {
     "name": "stdout",
     "output_type": "stream",
     "text": [
      "Reloading Tuner from kt_tuner\\option_price_model\\tuner0.json\n"
     ]
    }
   ],
   "source": [
    "tuner = kt.RandomSearch(\n",
    "    build_model,\n",
    "    objective=\"val_mae\",\n",
    "    max_trials=25,              # Try 10 different hyperparameter combinations\n",
    "    executions_per_trial=1,     # How many times to train each model\n",
    "    directory=\"kt_tuner\",\n",
    "    project_name=\"option_price_model\"\n",
    ")"
   ]
  },
  {
   "cell_type": "code",
   "execution_count": 40,
   "id": "a52aafde",
   "metadata": {},
   "outputs": [
    {
     "name": "stdout",
     "output_type": "stream",
     "text": [
      "Trial 25 Complete [00h 00m 42s]\n",
      "val_mae: 69.79572296142578\n",
      "\n",
      "Best val_mae So Far: 7.587751388549805\n",
      "Total elapsed time: 01h 13m 21s\n"
     ]
    }
   ],
   "source": [
    "from tensorflow.keras.callbacks import EarlyStopping\n",
    "\n",
    "early_stop = EarlyStopping(monitor='val_loss', patience=5, restore_best_weights=True)\n",
    "\n",
    "tuner.search(\n",
    "    X_train, Y_train,\n",
    "    validation_data=(X_dev, Y_dev),\n",
    "    epochs=50,\n",
    "    batch_size=32,\n",
    "    callbacks=[early_stop],\n",
    "    verbose=1\n",
    ")\n"
   ]
  },
  {
   "cell_type": "code",
   "execution_count": null,
   "id": "67eb56cd",
   "metadata": {},
   "outputs": [],
   "source": [
    "# tensorflow.keras.optimizers."
   ]
  },
  {
   "cell_type": "code",
   "execution_count": 13,
   "id": "cd1445b1",
   "metadata": {},
   "outputs": [
    {
     "name": "stderr",
     "output_type": "stream",
     "text": [
      "C:\\Users\\saiha\\AppData\\Local\\Packages\\PythonSoftwareFoundation.Python.3.11_qbz5n2kfra8p0\\LocalCache\\local-packages\\Python311\\site-packages\\keras\\src\\saving\\saving_lib.py:802: UserWarning: Skipping variable loading for optimizer 'adam', because it has 2 variables whereas the saved optimizer has 18 variables. \n",
      "  saveable.load_own_variables(weights_store.get(inner_path))\n"
     ]
    },
    {
     "name": "stdout",
     "output_type": "stream",
     "text": [
      "Best hyperparameters:\n",
      "num_layers: 3\n",
      "units_0: 32\n",
      "activation: relu\n",
      "optimizer: adam\n",
      "learning_rate: 0.0009388837297496945\n",
      "units_1: 128\n",
      "units_2: 64\n",
      "\u001b[1m91/91\u001b[0m \u001b[32m━━━━━━━━━━━━━━━━━━━━\u001b[0m\u001b[37m\u001b[0m \u001b[1m1s\u001b[0m 3ms/step - loss: 9.1134 - mae: 9.1134\n",
      "Test MAE: 7.897063255310059\n"
     ]
    }
   ],
   "source": [
    "best_model = tuner.get_best_models(num_models=1)[0]\n",
    "best_hp = tuner.get_best_hyperparameters(num_trials=1)[0]\n",
    "\n",
    "print(\"Best hyperparameters:\")\n",
    "for param in best_hp.values:\n",
    "    print(f\"{param}: {best_hp.get(param)}\")\n",
    "\n",
    "# Evaluate the best model\n",
    "test_loss, test_mae = best_model.evaluate(X_test, Y_test)\n",
    "print(\"Test MAE:\", test_mae)"
   ]
  },
  {
   "cell_type": "markdown",
   "id": "0188d9e1",
   "metadata": {},
   "source": [
    "After tuning and finding the best hyperparameters:"
   ]
  },
  {
   "cell_type": "code",
   "execution_count": 18,
   "id": "bb5fecf0",
   "metadata": {},
   "outputs": [],
   "source": [
    "best_model.save(\"best_model_from_tuner.keras\")"
   ]
  },
  {
   "cell_type": "code",
   "execution_count": 14,
   "id": "4cd2d78a",
   "metadata": {},
   "outputs": [],
   "source": [
    "model = Sequential([\n",
    "    Input(shape=(X_train.shape[1],)),  # Explicit Input layer\n",
    "    Dense(32, activation='relu'),\n",
    "    Dense(128, activation='relu'),\n",
    "    Dense(64, activation='relu'),\n",
    "    Dense(1)  # Regression output\n",
    "])"
   ]
  },
  {
   "cell_type": "code",
   "execution_count": 15,
   "id": "5995019b",
   "metadata": {},
   "outputs": [],
   "source": [
    "optimizer = Adam(learning_rate=0.0009)  \n",
    "\n",
    "model.compile(\n",
    "    optimizer=optimizer,\n",
    "    loss='mse',\n",
    "    metrics=['mae']\n",
    ")"
   ]
  },
  {
   "cell_type": "code",
   "execution_count": 16,
   "id": "884c6836",
   "metadata": {},
   "outputs": [
    {
     "name": "stdout",
     "output_type": "stream",
     "text": [
      "Epoch 1/100\n",
      "\u001b[1m636/636\u001b[0m \u001b[32m━━━━━━━━━━━━━━━━━━━━\u001b[0m\u001b[37m\u001b[0m \u001b[1m5s\u001b[0m 4ms/step - loss: 615095.3125 - mae: 116.2965 - val_loss: 13190.6465 - val_mae: 66.7566\n",
      "Epoch 2/100\n",
      "\u001b[1m636/636\u001b[0m \u001b[32m━━━━━━━━━━━━━━━━━━━━\u001b[0m\u001b[37m\u001b[0m \u001b[1m2s\u001b[0m 4ms/step - loss: 20778.9297 - mae: 73.5029 - val_loss: 76294.9453 - val_mae: 98.9629\n",
      "Epoch 3/100\n",
      "\u001b[1m636/636\u001b[0m \u001b[32m━━━━━━━━━━━━━━━━━━━━\u001b[0m\u001b[37m\u001b[0m \u001b[1m2s\u001b[0m 4ms/step - loss: 136885.0156 - mae: 100.3196 - val_loss: 134987.7969 - val_mae: 85.0524\n",
      "Epoch 4/100\n",
      "\u001b[1m636/636\u001b[0m \u001b[32m━━━━━━━━━━━━━━━━━━━━\u001b[0m\u001b[37m\u001b[0m \u001b[1m2s\u001b[0m 4ms/step - loss: 67029.1797 - mae: 75.9677 - val_loss: 10494.1992 - val_mae: 60.0727\n",
      "Epoch 5/100\n",
      "\u001b[1m636/636\u001b[0m \u001b[32m━━━━━━━━━━━━━━━━━━━━\u001b[0m\u001b[37m\u001b[0m \u001b[1m2s\u001b[0m 4ms/step - loss: 10804.7178 - mae: 60.9958 - val_loss: 10243.0771 - val_mae: 58.1748\n",
      "Epoch 6/100\n",
      "\u001b[1m636/636\u001b[0m \u001b[32m━━━━━━━━━━━━━━━━━━━━\u001b[0m\u001b[37m\u001b[0m \u001b[1m2s\u001b[0m 4ms/step - loss: 9927.2949 - mae: 58.2135 - val_loss: 11196.7197 - val_mae: 61.5780\n",
      "Epoch 7/100\n",
      "\u001b[1m636/636\u001b[0m \u001b[32m━━━━━━━━━━━━━━━━━━━━\u001b[0m\u001b[37m\u001b[0m \u001b[1m2s\u001b[0m 4ms/step - loss: 10434.8291 - mae: 57.3179 - val_loss: 10497.3867 - val_mae: 54.5468\n",
      "Epoch 8/100\n",
      "\u001b[1m636/636\u001b[0m \u001b[32m━━━━━━━━━━━━━━━━━━━━\u001b[0m\u001b[37m\u001b[0m \u001b[1m2s\u001b[0m 3ms/step - loss: 9806.0654 - mae: 55.3277 - val_loss: 33475.3164 - val_mae: 57.9677\n",
      "Epoch 9/100\n",
      "\u001b[1m636/636\u001b[0m \u001b[32m━━━━━━━━━━━━━━━━━━━━\u001b[0m\u001b[37m\u001b[0m \u001b[1m2s\u001b[0m 3ms/step - loss: 163061.1875 - mae: 61.4960 - val_loss: 9088.3340 - val_mae: 51.5476\n",
      "Epoch 10/100\n",
      "\u001b[1m636/636\u001b[0m \u001b[32m━━━━━━━━━━━━━━━━━━━━\u001b[0m\u001b[37m\u001b[0m \u001b[1m2s\u001b[0m 3ms/step - loss: 9281.4287 - mae: 50.8595 - val_loss: 30437.4961 - val_mae: 64.6182\n",
      "Epoch 11/100\n",
      "\u001b[1m636/636\u001b[0m \u001b[32m━━━━━━━━━━━━━━━━━━━━\u001b[0m\u001b[37m\u001b[0m \u001b[1m3s\u001b[0m 4ms/step - loss: 46095.2422 - mae: 62.1148 - val_loss: 6913.5576 - val_mae: 43.3309\n",
      "Epoch 12/100\n",
      "\u001b[1m636/636\u001b[0m \u001b[32m━━━━━━━━━━━━━━━━━━━━\u001b[0m\u001b[37m\u001b[0m \u001b[1m2s\u001b[0m 3ms/step - loss: 6613.3276 - mae: 43.3420 - val_loss: 6547.9263 - val_mae: 42.7051\n",
      "Epoch 13/100\n",
      "\u001b[1m636/636\u001b[0m \u001b[32m━━━━━━━━━━━━━━━━━━━━\u001b[0m\u001b[37m\u001b[0m \u001b[1m2s\u001b[0m 3ms/step - loss: 6644.9722 - mae: 43.1199 - val_loss: 6382.9258 - val_mae: 39.2296\n",
      "Epoch 14/100\n",
      "\u001b[1m636/636\u001b[0m \u001b[32m━━━━━━━━━━━━━━━━━━━━\u001b[0m\u001b[37m\u001b[0m \u001b[1m2s\u001b[0m 3ms/step - loss: 5897.3818 - mae: 39.2882 - val_loss: 6371.3247 - val_mae: 43.0528\n",
      "Epoch 15/100\n",
      "\u001b[1m636/636\u001b[0m \u001b[32m━━━━━━━━━━━━━━━━━━━━\u001b[0m\u001b[37m\u001b[0m \u001b[1m2s\u001b[0m 3ms/step - loss: 6104.7803 - mae: 39.9187 - val_loss: 5645.1108 - val_mae: 37.7284\n",
      "Epoch 16/100\n",
      "\u001b[1m636/636\u001b[0m \u001b[32m━━━━━━━━━━━━━━━━━━━━\u001b[0m\u001b[37m\u001b[0m \u001b[1m2s\u001b[0m 3ms/step - loss: 6146.0996 - mae: 39.3810 - val_loss: 5812.3740 - val_mae: 40.1915\n",
      "Epoch 17/100\n",
      "\u001b[1m636/636\u001b[0m \u001b[32m━━━━━━━━━━━━━━━━━━━━\u001b[0m\u001b[37m\u001b[0m \u001b[1m2s\u001b[0m 3ms/step - loss: 5608.0127 - mae: 36.6542 - val_loss: 5850.3550 - val_mae: 37.4014\n",
      "Epoch 18/100\n",
      "\u001b[1m636/636\u001b[0m \u001b[32m━━━━━━━━━━━━━━━━━━━━\u001b[0m\u001b[37m\u001b[0m \u001b[1m2s\u001b[0m 3ms/step - loss: 5678.6479 - mae: 35.5283 - val_loss: 5633.1982 - val_mae: 36.3757\n",
      "Epoch 19/100\n",
      "\u001b[1m636/636\u001b[0m \u001b[32m━━━━━━━━━━━━━━━━━━━━\u001b[0m\u001b[37m\u001b[0m \u001b[1m2s\u001b[0m 3ms/step - loss: 5305.3447 - mae: 33.7907 - val_loss: 5263.2925 - val_mae: 35.6823\n",
      "Epoch 20/100\n",
      "\u001b[1m636/636\u001b[0m \u001b[32m━━━━━━━━━━━━━━━━━━━━\u001b[0m\u001b[37m\u001b[0m \u001b[1m2s\u001b[0m 3ms/step - loss: 5724.5654 - mae: 32.6415 - val_loss: 4503.3296 - val_mae: 31.3677\n",
      "Epoch 21/100\n",
      "\u001b[1m636/636\u001b[0m \u001b[32m━━━━━━━━━━━━━━━━━━━━\u001b[0m\u001b[37m\u001b[0m \u001b[1m2s\u001b[0m 3ms/step - loss: 10423.8594 - mae: 32.3527 - val_loss: 4354.3516 - val_mae: 29.5668\n",
      "Epoch 22/100\n",
      "\u001b[1m636/636\u001b[0m \u001b[32m━━━━━━━━━━━━━━━━━━━━\u001b[0m\u001b[37m\u001b[0m \u001b[1m2s\u001b[0m 3ms/step - loss: 4310.2173 - mae: 29.6788 - val_loss: 4059.0945 - val_mae: 28.6568\n",
      "Epoch 23/100\n",
      "\u001b[1m636/636\u001b[0m \u001b[32m━━━━━━━━━━━━━━━━━━━━\u001b[0m\u001b[37m\u001b[0m \u001b[1m2s\u001b[0m 3ms/step - loss: 4534.8193 - mae: 29.9338 - val_loss: 6997.3960 - val_mae: 31.0325\n",
      "Epoch 24/100\n",
      "\u001b[1m636/636\u001b[0m \u001b[32m━━━━━━━━━━━━━━━━━━━━\u001b[0m\u001b[37m\u001b[0m \u001b[1m2s\u001b[0m 3ms/step - loss: 8046.0791 - mae: 28.7904 - val_loss: 3668.6775 - val_mae: 27.9484\n",
      "Epoch 25/100\n",
      "\u001b[1m636/636\u001b[0m \u001b[32m━━━━━━━━━━━━━━━━━━━━\u001b[0m\u001b[37m\u001b[0m \u001b[1m2s\u001b[0m 3ms/step - loss: 3549.0994 - mae: 27.8800 - val_loss: 3780.1736 - val_mae: 28.8985\n",
      "Epoch 26/100\n",
      "\u001b[1m636/636\u001b[0m \u001b[32m━━━━━━━━━━━━━━━━━━━━\u001b[0m\u001b[37m\u001b[0m \u001b[1m2s\u001b[0m 3ms/step - loss: 3603.8931 - mae: 27.0026 - val_loss: 2796.5151 - val_mae: 25.5191\n",
      "Epoch 27/100\n",
      "\u001b[1m636/636\u001b[0m \u001b[32m━━━━━━━━━━━━━━━━━━━━\u001b[0m\u001b[37m\u001b[0m \u001b[1m2s\u001b[0m 3ms/step - loss: 2937.3506 - mae: 25.4415 - val_loss: 2423.2144 - val_mae: 22.3930\n",
      "Epoch 28/100\n",
      "\u001b[1m636/636\u001b[0m \u001b[32m━━━━━━━━━━━━━━━━━━━━\u001b[0m\u001b[37m\u001b[0m \u001b[1m2s\u001b[0m 3ms/step - loss: 2670.5771 - mae: 24.1998 - val_loss: 2254.7000 - val_mae: 24.0527\n",
      "Epoch 29/100\n",
      "\u001b[1m636/636\u001b[0m \u001b[32m━━━━━━━━━━━━━━━━━━━━\u001b[0m\u001b[37m\u001b[0m \u001b[1m2s\u001b[0m 3ms/step - loss: 2158.8262 - mae: 22.4026 - val_loss: 2070.9922 - val_mae: 21.7135\n",
      "Epoch 30/100\n",
      "\u001b[1m636/636\u001b[0m \u001b[32m━━━━━━━━━━━━━━━━━━━━\u001b[0m\u001b[37m\u001b[0m \u001b[1m2s\u001b[0m 3ms/step - loss: 2114.2180 - mae: 22.0291 - val_loss: 1833.6444 - val_mae: 21.9009\n",
      "Epoch 31/100\n",
      "\u001b[1m636/636\u001b[0m \u001b[32m━━━━━━━━━━━━━━━━━━━━\u001b[0m\u001b[37m\u001b[0m \u001b[1m2s\u001b[0m 3ms/step - loss: 1978.1044 - mae: 21.6285 - val_loss: 1276.6324 - val_mae: 18.4825\n",
      "Epoch 32/100\n",
      "\u001b[1m636/636\u001b[0m \u001b[32m━━━━━━━━━━━━━━━━━━━━\u001b[0m\u001b[37m\u001b[0m \u001b[1m2s\u001b[0m 3ms/step - loss: 1521.9447 - mae: 19.5317 - val_loss: 1283.8209 - val_mae: 20.5723\n",
      "Epoch 33/100\n",
      "\u001b[1m636/636\u001b[0m \u001b[32m━━━━━━━━━━━━━━━━━━━━\u001b[0m\u001b[37m\u001b[0m \u001b[1m2s\u001b[0m 3ms/step - loss: 1485.6274 - mae: 19.2156 - val_loss: 1212.5592 - val_mae: 17.8793\n",
      "Epoch 34/100\n",
      "\u001b[1m636/636\u001b[0m \u001b[32m━━━━━━━━━━━━━━━━━━━━\u001b[0m\u001b[37m\u001b[0m \u001b[1m2s\u001b[0m 3ms/step - loss: 1425.9146 - mae: 18.4256 - val_loss: 1007.5616 - val_mae: 18.4600\n",
      "Epoch 35/100\n",
      "\u001b[1m636/636\u001b[0m \u001b[32m━━━━━━━━━━━━━━━━━━━━\u001b[0m\u001b[37m\u001b[0m \u001b[1m2s\u001b[0m 3ms/step - loss: 1315.3239 - mae: 18.6322 - val_loss: 1044.0371 - val_mae: 19.4789\n",
      "Epoch 36/100\n",
      "\u001b[1m636/636\u001b[0m \u001b[32m━━━━━━━━━━━━━━━━━━━━\u001b[0m\u001b[37m\u001b[0m \u001b[1m2s\u001b[0m 3ms/step - loss: 1168.4062 - mae: 18.2071 - val_loss: 929.6509 - val_mae: 18.1697\n",
      "Epoch 37/100\n",
      "\u001b[1m636/636\u001b[0m \u001b[32m━━━━━━━━━━━━━━━━━━━━\u001b[0m\u001b[37m\u001b[0m \u001b[1m2s\u001b[0m 3ms/step - loss: 1171.7825 - mae: 17.2177 - val_loss: 625.5894 - val_mae: 13.6273\n",
      "Epoch 38/100\n",
      "\u001b[1m636/636\u001b[0m \u001b[32m━━━━━━━━━━━━━━━━━━━━\u001b[0m\u001b[37m\u001b[0m \u001b[1m2s\u001b[0m 3ms/step - loss: 962.7438 - mae: 15.6320 - val_loss: 990.4539 - val_mae: 16.1895\n",
      "Epoch 39/100\n",
      "\u001b[1m636/636\u001b[0m \u001b[32m━━━━━━━━━━━━━━━━━━━━\u001b[0m\u001b[37m\u001b[0m \u001b[1m2s\u001b[0m 3ms/step - loss: 1073.2014 - mae: 16.0238 - val_loss: 2002.6111 - val_mae: 23.8226\n",
      "Epoch 40/100\n",
      "\u001b[1m636/636\u001b[0m \u001b[32m━━━━━━━━━━━━━━━━━━━━\u001b[0m\u001b[37m\u001b[0m \u001b[1m2s\u001b[0m 3ms/step - loss: 2293.2361 - mae: 21.3833 - val_loss: 1073.8301 - val_mae: 16.0431\n",
      "Epoch 41/100\n",
      "\u001b[1m636/636\u001b[0m \u001b[32m━━━━━━━━━━━━━━━━━━━━\u001b[0m\u001b[37m\u001b[0m \u001b[1m2s\u001b[0m 3ms/step - loss: 901.5819 - mae: 15.7026 - val_loss: 572.8511 - val_mae: 13.9624\n",
      "Epoch 42/100\n",
      "\u001b[1m636/636\u001b[0m \u001b[32m━━━━━━━━━━━━━━━━━━━━\u001b[0m\u001b[37m\u001b[0m \u001b[1m2s\u001b[0m 3ms/step - loss: 785.2644 - mae: 14.8886 - val_loss: 570.9531 - val_mae: 13.6030\n",
      "Epoch 43/100\n",
      "\u001b[1m636/636\u001b[0m \u001b[32m━━━━━━━━━━━━━━━━━━━━\u001b[0m\u001b[37m\u001b[0m \u001b[1m2s\u001b[0m 3ms/step - loss: 827.4052 - mae: 15.3452 - val_loss: 472.0504 - val_mae: 12.6060\n",
      "Epoch 44/100\n",
      "\u001b[1m636/636\u001b[0m \u001b[32m━━━━━━━━━━━━━━━━━━━━\u001b[0m\u001b[37m\u001b[0m \u001b[1m2s\u001b[0m 3ms/step - loss: 648.9969 - mae: 14.0105 - val_loss: 478.6896 - val_mae: 11.5677\n",
      "Epoch 45/100\n",
      "\u001b[1m636/636\u001b[0m \u001b[32m━━━━━━━━━━━━━━━━━━━━\u001b[0m\u001b[37m\u001b[0m \u001b[1m2s\u001b[0m 4ms/step - loss: 707.5172 - mae: 13.8559 - val_loss: 599.6291 - val_mae: 14.2622\n",
      "Epoch 46/100\n",
      "\u001b[1m636/636\u001b[0m \u001b[32m━━━━━━━━━━━━━━━━━━━━\u001b[0m\u001b[37m\u001b[0m \u001b[1m2s\u001b[0m 3ms/step - loss: 546.7219 - mae: 13.5351 - val_loss: 1019.5436 - val_mae: 18.0610\n",
      "Epoch 47/100\n",
      "\u001b[1m636/636\u001b[0m \u001b[32m━━━━━━━━━━━━━━━━━━━━\u001b[0m\u001b[37m\u001b[0m \u001b[1m2s\u001b[0m 3ms/step - loss: 686.4815 - mae: 14.0762 - val_loss: 1609.9667 - val_mae: 14.6542\n",
      "Epoch 48/100\n",
      "\u001b[1m636/636\u001b[0m \u001b[32m━━━━━━━━━━━━━━━━━━━━\u001b[0m\u001b[37m\u001b[0m \u001b[1m2s\u001b[0m 3ms/step - loss: 849.9689 - mae: 13.9480 - val_loss: 991.2899 - val_mae: 19.8246\n",
      "Epoch 49/100\n",
      "\u001b[1m636/636\u001b[0m \u001b[32m━━━━━━━━━━━━━━━━━━━━\u001b[0m\u001b[37m\u001b[0m \u001b[1m2s\u001b[0m 3ms/step - loss: 718.6355 - mae: 14.0406 - val_loss: 793.6315 - val_mae: 17.3698\n",
      "Epoch 50/100\n",
      "\u001b[1m636/636\u001b[0m \u001b[32m━━━━━━━━━━━━━━━━━━━━\u001b[0m\u001b[37m\u001b[0m \u001b[1m2s\u001b[0m 3ms/step - loss: 743.6974 - mae: 14.2303 - val_loss: 317.4776 - val_mae: 10.8302\n",
      "Epoch 51/100\n",
      "\u001b[1m636/636\u001b[0m \u001b[32m━━━━━━━━━━━━━━━━━━━━\u001b[0m\u001b[37m\u001b[0m \u001b[1m2s\u001b[0m 3ms/step - loss: 605.0751 - mae: 13.6839 - val_loss: 426.6779 - val_mae: 12.1060\n",
      "Epoch 52/100\n",
      "\u001b[1m636/636\u001b[0m \u001b[32m━━━━━━━━━━━━━━━━━━━━\u001b[0m\u001b[37m\u001b[0m \u001b[1m2s\u001b[0m 3ms/step - loss: 463.4625 - mae: 12.2284 - val_loss: 2937.5151 - val_mae: 17.1172\n",
      "Epoch 53/100\n",
      "\u001b[1m636/636\u001b[0m \u001b[32m━━━━━━━━━━━━━━━━━━━━\u001b[0m\u001b[37m\u001b[0m \u001b[1m2s\u001b[0m 3ms/step - loss: 803.9894 - mae: 13.7433 - val_loss: 463.1469 - val_mae: 12.4871\n",
      "Epoch 54/100\n",
      "\u001b[1m636/636\u001b[0m \u001b[32m━━━━━━━━━━━━━━━━━━━━\u001b[0m\u001b[37m\u001b[0m \u001b[1m2s\u001b[0m 3ms/step - loss: 664.7964 - mae: 12.3307 - val_loss: 640.6003 - val_mae: 15.1767\n",
      "Epoch 55/100\n",
      "\u001b[1m636/636\u001b[0m \u001b[32m━━━━━━━━━━━━━━━━━━━━\u001b[0m\u001b[37m\u001b[0m \u001b[1m2s\u001b[0m 3ms/step - loss: 596.1944 - mae: 13.5366 - val_loss: 525.2988 - val_mae: 15.1396\n",
      "Epoch 56/100\n",
      "\u001b[1m636/636\u001b[0m \u001b[32m━━━━━━━━━━━━━━━━━━━━\u001b[0m\u001b[37m\u001b[0m \u001b[1m2s\u001b[0m 3ms/step - loss: 393.1397 - mae: 11.4622 - val_loss: 366.8271 - val_mae: 11.6230\n",
      "Epoch 57/100\n",
      "\u001b[1m636/636\u001b[0m \u001b[32m━━━━━━━━━━━━━━━━━━━━\u001b[0m\u001b[37m\u001b[0m \u001b[1m2s\u001b[0m 3ms/step - loss: 548.0197 - mae: 11.4048 - val_loss: 247.1762 - val_mae: 9.1214\n",
      "Epoch 58/100\n",
      "\u001b[1m636/636\u001b[0m \u001b[32m━━━━━━━━━━━━━━━━━━━━\u001b[0m\u001b[37m\u001b[0m \u001b[1m2s\u001b[0m 3ms/step - loss: 622.9396 - mae: 13.4178 - val_loss: 343.7193 - val_mae: 12.5924\n",
      "Epoch 59/100\n",
      "\u001b[1m636/636\u001b[0m \u001b[32m━━━━━━━━━━━━━━━━━━━━\u001b[0m\u001b[37m\u001b[0m \u001b[1m2s\u001b[0m 3ms/step - loss: 466.8030 - mae: 11.9944 - val_loss: 379.5876 - val_mae: 10.8555\n",
      "Epoch 60/100\n",
      "\u001b[1m636/636\u001b[0m \u001b[32m━━━━━━━━━━━━━━━━━━━━\u001b[0m\u001b[37m\u001b[0m \u001b[1m2s\u001b[0m 3ms/step - loss: 351.5680 - mae: 10.6365 - val_loss: 482.2607 - val_mae: 14.2606\n",
      "Epoch 61/100\n",
      "\u001b[1m636/636\u001b[0m \u001b[32m━━━━━━━━━━━━━━━━━━━━\u001b[0m\u001b[37m\u001b[0m \u001b[1m2s\u001b[0m 3ms/step - loss: 639.1111 - mae: 13.5192 - val_loss: 493.9442 - val_mae: 13.6088\n",
      "Epoch 62/100\n",
      "\u001b[1m636/636\u001b[0m \u001b[32m━━━━━━━━━━━━━━━━━━━━\u001b[0m\u001b[37m\u001b[0m \u001b[1m2s\u001b[0m 3ms/step - loss: 598.8191 - mae: 12.9802 - val_loss: 453.6538 - val_mae: 11.5182\n",
      "Epoch 63/100\n",
      "\u001b[1m636/636\u001b[0m \u001b[32m━━━━━━━━━━━━━━━━━━━━\u001b[0m\u001b[37m\u001b[0m \u001b[1m2s\u001b[0m 3ms/step - loss: 452.4388 - mae: 12.4150 - val_loss: 445.0514 - val_mae: 12.6316\n",
      "Epoch 64/100\n",
      "\u001b[1m636/636\u001b[0m \u001b[32m━━━━━━━━━━━━━━━━━━━━\u001b[0m\u001b[37m\u001b[0m \u001b[1m2s\u001b[0m 3ms/step - loss: 435.7068 - mae: 11.2086 - val_loss: 384.5616 - val_mae: 9.4640\n",
      "Epoch 65/100\n",
      "\u001b[1m636/636\u001b[0m \u001b[32m━━━━━━━━━━━━━━━━━━━━\u001b[0m\u001b[37m\u001b[0m \u001b[1m2s\u001b[0m 3ms/step - loss: 367.1494 - mae: 10.5164 - val_loss: 283.7157 - val_mae: 10.2471\n",
      "Epoch 66/100\n",
      "\u001b[1m636/636\u001b[0m \u001b[32m━━━━━━━━━━━━━━━━━━━━\u001b[0m\u001b[37m\u001b[0m \u001b[1m2s\u001b[0m 3ms/step - loss: 567.7905 - mae: 11.6227 - val_loss: 175.6687 - val_mae: 8.2658\n",
      "Epoch 67/100\n",
      "\u001b[1m636/636\u001b[0m \u001b[32m━━━━━━━━━━━━━━━━━━━━\u001b[0m\u001b[37m\u001b[0m \u001b[1m2s\u001b[0m 3ms/step - loss: 393.3409 - mae: 10.9099 - val_loss: 314.3468 - val_mae: 10.2109\n",
      "Epoch 68/100\n",
      "\u001b[1m636/636\u001b[0m \u001b[32m━━━━━━━━━━━━━━━━━━━━\u001b[0m\u001b[37m\u001b[0m \u001b[1m2s\u001b[0m 4ms/step - loss: 464.6788 - mae: 11.8066 - val_loss: 521.6063 - val_mae: 15.0147\n",
      "Epoch 69/100\n",
      "\u001b[1m636/636\u001b[0m \u001b[32m━━━━━━━━━━━━━━━━━━━━\u001b[0m\u001b[37m\u001b[0m \u001b[1m2s\u001b[0m 3ms/step - loss: 607.5844 - mae: 12.1055 - val_loss: 212.0554 - val_mae: 8.9411\n",
      "Epoch 70/100\n",
      "\u001b[1m636/636\u001b[0m \u001b[32m━━━━━━━━━━━━━━━━━━━━\u001b[0m\u001b[37m\u001b[0m \u001b[1m2s\u001b[0m 4ms/step - loss: 475.5222 - mae: 11.7708 - val_loss: 219.1420 - val_mae: 9.4011\n",
      "Epoch 71/100\n",
      "\u001b[1m636/636\u001b[0m \u001b[32m━━━━━━━━━━━━━━━━━━━━\u001b[0m\u001b[37m\u001b[0m \u001b[1m2s\u001b[0m 4ms/step - loss: 276.5232 - mae: 9.5864 - val_loss: 383.9749 - val_mae: 11.9931\n",
      "Epoch 72/100\n",
      "\u001b[1m636/636\u001b[0m \u001b[32m━━━━━━━━━━━━━━━━━━━━\u001b[0m\u001b[37m\u001b[0m \u001b[1m2s\u001b[0m 4ms/step - loss: 555.6635 - mae: 12.4405 - val_loss: 605.0557 - val_mae: 14.8447\n",
      "Epoch 73/100\n",
      "\u001b[1m636/636\u001b[0m \u001b[32m━━━━━━━━━━━━━━━━━━━━\u001b[0m\u001b[37m\u001b[0m \u001b[1m2s\u001b[0m 4ms/step - loss: 614.7299 - mae: 13.5663 - val_loss: 280.7190 - val_mae: 10.1071\n",
      "Epoch 74/100\n",
      "\u001b[1m636/636\u001b[0m \u001b[32m━━━━━━━━━━━━━━━━━━━━\u001b[0m\u001b[37m\u001b[0m \u001b[1m2s\u001b[0m 4ms/step - loss: 310.6847 - mae: 10.4500 - val_loss: 287.0277 - val_mae: 9.5827\n",
      "Epoch 75/100\n",
      "\u001b[1m636/636\u001b[0m \u001b[32m━━━━━━━━━━━━━━━━━━━━\u001b[0m\u001b[37m\u001b[0m \u001b[1m2s\u001b[0m 4ms/step - loss: 288.4175 - mae: 10.2566 - val_loss: 310.3091 - val_mae: 10.9942\n",
      "Epoch 76/100\n",
      "\u001b[1m636/636\u001b[0m \u001b[32m━━━━━━━━━━━━━━━━━━━━\u001b[0m\u001b[37m\u001b[0m \u001b[1m2s\u001b[0m 3ms/step - loss: 300.4423 - mae: 10.1208 - val_loss: 230.3199 - val_mae: 9.5430\n",
      "Epoch 77/100\n",
      "\u001b[1m636/636\u001b[0m \u001b[32m━━━━━━━━━━━━━━━━━━━━\u001b[0m\u001b[37m\u001b[0m \u001b[1m2s\u001b[0m 4ms/step - loss: 396.0136 - mae: 9.7569 - val_loss: 264.0549 - val_mae: 9.4133\n",
      "Epoch 78/100\n",
      "\u001b[1m636/636\u001b[0m \u001b[32m━━━━━━━━━━━━━━━━━━━━\u001b[0m\u001b[37m\u001b[0m \u001b[1m2s\u001b[0m 3ms/step - loss: 277.8620 - mae: 9.8258 - val_loss: 236.2473 - val_mae: 8.7519\n",
      "Epoch 79/100\n",
      "\u001b[1m636/636\u001b[0m \u001b[32m━━━━━━━━━━━━━━━━━━━━\u001b[0m\u001b[37m\u001b[0m \u001b[1m2s\u001b[0m 4ms/step - loss: 334.7912 - mae: 10.1179 - val_loss: 317.0463 - val_mae: 9.6938\n",
      "Epoch 80/100\n",
      "\u001b[1m636/636\u001b[0m \u001b[32m━━━━━━━━━━━━━━━━━━━━\u001b[0m\u001b[37m\u001b[0m \u001b[1m2s\u001b[0m 4ms/step - loss: 255.4035 - mae: 9.3685 - val_loss: 164.0011 - val_mae: 7.5338\n",
      "Epoch 81/100\n",
      "\u001b[1m636/636\u001b[0m \u001b[32m━━━━━━━━━━━━━━━━━━━━\u001b[0m\u001b[37m\u001b[0m \u001b[1m2s\u001b[0m 3ms/step - loss: 257.3512 - mae: 9.5755 - val_loss: 167.4194 - val_mae: 8.0586\n",
      "Epoch 82/100\n",
      "\u001b[1m636/636\u001b[0m \u001b[32m━━━━━━━━━━━━━━━━━━━━\u001b[0m\u001b[37m\u001b[0m \u001b[1m2s\u001b[0m 3ms/step - loss: 221.9333 - mae: 8.6081 - val_loss: 476.2254 - val_mae: 12.4014\n",
      "Epoch 83/100\n",
      "\u001b[1m636/636\u001b[0m \u001b[32m━━━━━━━━━━━━━━━━━━━━\u001b[0m\u001b[37m\u001b[0m \u001b[1m2s\u001b[0m 3ms/step - loss: 444.4048 - mae: 11.2572 - val_loss: 207.9429 - val_mae: 8.4249\n",
      "Epoch 84/100\n",
      "\u001b[1m636/636\u001b[0m \u001b[32m━━━━━━━━━━━━━━━━━━━━\u001b[0m\u001b[37m\u001b[0m \u001b[1m2s\u001b[0m 3ms/step - loss: 237.4763 - mae: 9.1296 - val_loss: 229.5613 - val_mae: 9.4574\n",
      "Epoch 85/100\n",
      "\u001b[1m636/636\u001b[0m \u001b[32m━━━━━━━━━━━━━━━━━━━━\u001b[0m\u001b[37m\u001b[0m \u001b[1m2s\u001b[0m 4ms/step - loss: 218.6411 - mae: 8.9706 - val_loss: 151.3750 - val_mae: 7.7349\n",
      "Epoch 86/100\n",
      "\u001b[1m636/636\u001b[0m \u001b[32m━━━━━━━━━━━━━━━━━━━━\u001b[0m\u001b[37m\u001b[0m \u001b[1m2s\u001b[0m 4ms/step - loss: 513.5994 - mae: 11.7404 - val_loss: 224.9341 - val_mae: 10.4873\n",
      "Epoch 87/100\n",
      "\u001b[1m636/636\u001b[0m \u001b[32m━━━━━━━━━━━━━━━━━━━━\u001b[0m\u001b[37m\u001b[0m \u001b[1m2s\u001b[0m 4ms/step - loss: 166.2709 - mae: 7.8379 - val_loss: 153.3836 - val_mae: 7.3243\n",
      "Epoch 88/100\n",
      "\u001b[1m636/636\u001b[0m \u001b[32m━━━━━━━━━━━━━━━━━━━━\u001b[0m\u001b[37m\u001b[0m \u001b[1m2s\u001b[0m 4ms/step - loss: 301.1026 - mae: 9.4409 - val_loss: 191.8683 - val_mae: 8.1360\n",
      "Epoch 89/100\n",
      "\u001b[1m636/636\u001b[0m \u001b[32m━━━━━━━━━━━━━━━━━━━━\u001b[0m\u001b[37m\u001b[0m \u001b[1m2s\u001b[0m 4ms/step - loss: 203.2103 - mae: 8.7330 - val_loss: 212.5106 - val_mae: 8.7646\n",
      "Epoch 90/100\n",
      "\u001b[1m636/636\u001b[0m \u001b[32m━━━━━━━━━━━━━━━━━━━━\u001b[0m\u001b[37m\u001b[0m \u001b[1m2s\u001b[0m 3ms/step - loss: 933.4267 - mae: 14.7273 - val_loss: 232.8303 - val_mae: 9.3590\n",
      "Epoch 91/100\n",
      "\u001b[1m636/636\u001b[0m \u001b[32m━━━━━━━━━━━━━━━━━━━━\u001b[0m\u001b[37m\u001b[0m \u001b[1m2s\u001b[0m 3ms/step - loss: 193.2003 - mae: 8.5132 - val_loss: 687.3418 - val_mae: 14.5376\n",
      "Epoch 92/100\n",
      "\u001b[1m636/636\u001b[0m \u001b[32m━━━━━━━━━━━━━━━━━━━━\u001b[0m\u001b[37m\u001b[0m \u001b[1m2s\u001b[0m 3ms/step - loss: 331.2218 - mae: 10.2045 - val_loss: 155.8551 - val_mae: 7.5632\n",
      "Epoch 93/100\n",
      "\u001b[1m636/636\u001b[0m \u001b[32m━━━━━━━━━━━━━━━━━━━━\u001b[0m\u001b[37m\u001b[0m \u001b[1m2s\u001b[0m 3ms/step - loss: 197.3564 - mae: 8.3646 - val_loss: 232.2893 - val_mae: 10.2267\n",
      "Epoch 94/100\n",
      "\u001b[1m636/636\u001b[0m \u001b[32m━━━━━━━━━━━━━━━━━━━━\u001b[0m\u001b[37m\u001b[0m \u001b[1m2s\u001b[0m 4ms/step - loss: 213.5565 - mae: 8.9419 - val_loss: 173.7850 - val_mae: 8.0361\n",
      "Epoch 95/100\n",
      "\u001b[1m636/636\u001b[0m \u001b[32m━━━━━━━━━━━━━━━━━━━━\u001b[0m\u001b[37m\u001b[0m \u001b[1m2s\u001b[0m 4ms/step - loss: 208.9433 - mae: 8.4681 - val_loss: 506.2477 - val_mae: 14.1224\n",
      "Epoch 96/100\n",
      "\u001b[1m636/636\u001b[0m \u001b[32m━━━━━━━━━━━━━━━━━━━━\u001b[0m\u001b[37m\u001b[0m \u001b[1m2s\u001b[0m 4ms/step - loss: 1277.3359 - mae: 15.2457 - val_loss: 713.8621 - val_mae: 11.5629\n",
      "Epoch 97/100\n",
      "\u001b[1m636/636\u001b[0m \u001b[32m━━━━━━━━━━━━━━━━━━━━\u001b[0m\u001b[37m\u001b[0m \u001b[1m2s\u001b[0m 4ms/step - loss: 516.5190 - mae: 11.0366 - val_loss: 310.6826 - val_mae: 10.8434\n",
      "Epoch 98/100\n",
      "\u001b[1m636/636\u001b[0m \u001b[32m━━━━━━━━━━━━━━━━━━━━\u001b[0m\u001b[37m\u001b[0m \u001b[1m2s\u001b[0m 4ms/step - loss: 1562.4534 - mae: 12.3234 - val_loss: 458.8085 - val_mae: 11.4426\n",
      "Epoch 99/100\n",
      "\u001b[1m636/636\u001b[0m \u001b[32m━━━━━━━━━━━━━━━━━━━━\u001b[0m\u001b[37m\u001b[0m \u001b[1m2s\u001b[0m 4ms/step - loss: 334.0154 - mae: 10.0398 - val_loss: 211.6885 - val_mae: 8.2703\n",
      "Epoch 100/100\n",
      "\u001b[1m636/636\u001b[0m \u001b[32m━━━━━━━━━━━━━━━━━━━━\u001b[0m\u001b[37m\u001b[0m \u001b[1m2s\u001b[0m 4ms/step - loss: 260.3322 - mae: 8.8389 - val_loss: 399.0681 - val_mae: 10.9213\n"
     ]
    }
   ],
   "source": [
    "history = model.fit(\n",
    "    X_train, Y_train,\n",
    "    validation_data=(X_dev, Y_dev),\n",
    "    epochs=100,              # Start with a small number, like 50\n",
    "    batch_size=32,          # Common choice\n",
    "    verbose=1               # Shows progress per epoch\n",
    ")"
   ]
  },
  {
   "cell_type": "code",
   "execution_count": 24,
   "id": "d60ec785",
   "metadata": {},
   "outputs": [
    {
     "data": {
      "text/html": [
       "<div>\n",
       "<style scoped>\n",
       "    .dataframe tbody tr th:only-of-type {\n",
       "        vertical-align: middle;\n",
       "    }\n",
       "\n",
       "    .dataframe tbody tr th {\n",
       "        vertical-align: top;\n",
       "    }\n",
       "\n",
       "    .dataframe thead th {\n",
       "        text-align: right;\n",
       "    }\n",
       "</style>\n",
       "<table border=\"1\" class=\"dataframe\">\n",
       "  <thead>\n",
       "    <tr style=\"text-align: right;\">\n",
       "      <th></th>\n",
       "      <th>lastPrice</th>\n",
       "    </tr>\n",
       "  </thead>\n",
       "  <tbody>\n",
       "    <tr>\n",
       "      <th>0</th>\n",
       "      <td>5.58</td>\n",
       "    </tr>\n",
       "    <tr>\n",
       "      <th>1</th>\n",
       "      <td>0.87</td>\n",
       "    </tr>\n",
       "    <tr>\n",
       "      <th>2</th>\n",
       "      <td>36.43</td>\n",
       "    </tr>\n",
       "    <tr>\n",
       "      <th>3</th>\n",
       "      <td>105.15</td>\n",
       "    </tr>\n",
       "    <tr>\n",
       "      <th>4</th>\n",
       "      <td>217.25</td>\n",
       "    </tr>\n",
       "    <tr>\n",
       "      <th>...</th>\n",
       "      <td>...</td>\n",
       "    </tr>\n",
       "    <tr>\n",
       "      <th>2907</th>\n",
       "      <td>0.09</td>\n",
       "    </tr>\n",
       "    <tr>\n",
       "      <th>2908</th>\n",
       "      <td>2.11</td>\n",
       "    </tr>\n",
       "    <tr>\n",
       "      <th>2909</th>\n",
       "      <td>75.39</td>\n",
       "    </tr>\n",
       "    <tr>\n",
       "      <th>2910</th>\n",
       "      <td>1.23</td>\n",
       "    </tr>\n",
       "    <tr>\n",
       "      <th>2911</th>\n",
       "      <td>114.48</td>\n",
       "    </tr>\n",
       "  </tbody>\n",
       "</table>\n",
       "<p>2912 rows × 1 columns</p>\n",
       "</div>"
      ],
      "text/plain": [
       "      lastPrice\n",
       "0          5.58\n",
       "1          0.87\n",
       "2         36.43\n",
       "3        105.15\n",
       "4        217.25\n",
       "...         ...\n",
       "2907       0.09\n",
       "2908       2.11\n",
       "2909      75.39\n",
       "2910       1.23\n",
       "2911     114.48\n",
       "\n",
       "[2912 rows x 1 columns]"
      ]
     },
     "execution_count": 24,
     "metadata": {},
     "output_type": "execute_result"
    }
   ],
   "source": [
    "# pd.concat([X_test,Y_test])\n",
    "# X_test\n",
    "Y_test"
   ]
  },
  {
   "cell_type": "code",
   "execution_count": 25,
   "id": "d325270f",
   "metadata": {},
   "outputs": [],
   "source": [
    "X_test[\"lastPrice\"] = Y_test[\"lastPrice\"]"
   ]
  },
  {
   "cell_type": "code",
   "execution_count": 26,
   "id": "a12a8b6e",
   "metadata": {},
   "outputs": [],
   "source": [
    "X_test.to_csv(\"test_data_options.csv\",index=False)"
   ]
  }
 ],
 "metadata": {
  "kernelspec": {
   "display_name": "Python 3",
   "language": "python",
   "name": "python3"
  },
  "language_info": {
   "codemirror_mode": {
    "name": "ipython",
    "version": 3
   },
   "file_extension": ".py",
   "mimetype": "text/x-python",
   "name": "python",
   "nbconvert_exporter": "python",
   "pygments_lexer": "ipython3",
   "version": "3.11.9"
  }
 },
 "nbformat": 4,
 "nbformat_minor": 5
}
